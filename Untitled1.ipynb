{
  "nbformat": 4,
  "nbformat_minor": 0,
  "metadata": {
    "colab": {
      "name": "Untitled1.ipynb",
      "provenance": [],
      "authorship_tag": "ABX9TyMLOEgq5dnTwda/4Qyv1HRB",
      "include_colab_link": true
    },
    "kernelspec": {
      "name": "python3",
      "display_name": "Python 3"
    },
    "language_info": {
      "name": "python"
    }
  },
  "cells": [
    {
      "cell_type": "markdown",
      "metadata": {
        "id": "view-in-github",
        "colab_type": "text"
      },
      "source": [
        "<a href=\"https://colab.research.google.com/github/saurabhpatil1511/Assigment-4-Map-Filter-lambda/blob/main/Untitled1.ipynb\" target=\"_parent\"><img src=\"https://colab.research.google.com/assets/colab-badge.svg\" alt=\"Open In Colab\"/></a>"
      ]
    },
    {
      "cell_type": "code",
      "execution_count": 3,
      "metadata": {
        "colab": {
          "base_uri": "https://localhost:8080/"
        },
        "id": "JvcsggNevf8D",
        "outputId": "22aa9cf9-e6a9-4d71-aff4-9dd9ba779ed4"
      },
      "outputs": [
        {
          "output_type": "stream",
          "name": "stdout",
          "text": [
            "[0. 0. 0. 0. 1. 0. 0. 0. 0. 0.]\n"
          ]
        }
      ],
      "source": [
        "#Q1: Create a Null vector of size 10 but the fifth value which is 1.\n",
        "import numpy as np\n",
        "null_vector=np.zeros(10)\n",
        "null_vector[4]=1\n",
        "print(null_vector)"
      ]
    },
    {
      "cell_type": "code",
      "source": [
        "#Q2: Create a vector with values ranging from 10 to 49.\n",
        "df=np.arange(10,50)\n",
        "print(df)"
      ],
      "metadata": {
        "colab": {
          "base_uri": "https://localhost:8080/"
        },
        "id": "rUgEe6LwwSID",
        "outputId": "bb7089aa-b000-4c11-ede6-a90af76af6c4"
      },
      "execution_count": 4,
      "outputs": [
        {
          "output_type": "stream",
          "name": "stdout",
          "text": [
            "[10 11 12 13 14 15 16 17 18 19 20 21 22 23 24 25 26 27 28 29 30 31 32 33\n",
            " 34 35 36 37 38 39 40 41 42 43 44 45 46 47 48 49]\n"
          ]
        }
      ]
    },
    {
      "cell_type": "code",
      "source": [
        "#Q3: Create a 3X3 matrix with values ranging from 0 to 8.\n",
        "b=np.arange(9).reshape(3,3)\n",
        "print(b)"
      ],
      "metadata": {
        "colab": {
          "base_uri": "https://localhost:8080/"
        },
        "id": "_bYbz8sRwsrW",
        "outputId": "279bdda8-d00d-4a60-bd64-ebfb0aab618f"
      },
      "execution_count": 6,
      "outputs": [
        {
          "output_type": "stream",
          "name": "stdout",
          "text": [
            "[[0 1 2]\n",
            " [3 4 5]\n",
            " [6 7 8]]\n"
          ]
        }
      ]
    },
    {
      "cell_type": "code",
      "source": [
        "#Q4:Find the indices of non-zero elements from [1,2,0,0,4,0].\n",
        "import numpy as np\n",
        "elements=np.array([1,2,0,0,4,0])\n",
        "print('Original array: ', elements)\n",
        "print('indices of non-zero elements:')\n",
        "result=np.where(elements!=0)[0]\n",
        "print(result)"
      ],
      "metadata": {
        "colab": {
          "base_uri": "https://localhost:8080/"
        },
        "id": "DT0mGrraxSaB",
        "outputId": "1e26b552-a067-4ed9-947b-da6b17975ff2"
      },
      "execution_count": 7,
      "outputs": [
        {
          "output_type": "stream",
          "name": "stdout",
          "text": [
            "Original array:  [1 2 0 0 4 0]\n",
            "indices of non-zero elements:\n",
            "[0 1 4]\n"
          ]
        }
      ]
    },
    {
      "cell_type": "code",
      "source": [
        "#Q5:Create a 10x10 array with random values and find the minimum maximum values:\n",
        "import numpy as np\n",
        "array1= np.random.random((10,10))\n",
        "print(\"Oringinal Array:\")\n",
        "print(array1)\n",
        "array1_min, array1_max = array1.min(), array1.max()\n",
        "\n",
        "print(\"Minimum Values:\", array1_min)\n",
        "print(\"Maximum Values:\", array1_max)\n",
        "\n"
      ],
      "metadata": {
        "colab": {
          "base_uri": "https://localhost:8080/"
        },
        "id": "TQcq0b0OyzPa",
        "outputId": "50290a9c-2184-43eb-f0c7-2187b2673958"
      },
      "execution_count": 9,
      "outputs": [
        {
          "output_type": "stream",
          "name": "stdout",
          "text": [
            "Oringinal Array:\n",
            "[[0.47111951 0.63632373 0.4967633  0.79504544 0.56893338 0.32989946\n",
            "  0.30896982 0.82757564 0.08439455 0.41543021]\n",
            " [0.90934307 0.82976359 0.28764252 0.09747454 0.92257321 0.83588956\n",
            "  0.68933445 0.14836946 0.27172443 0.35036252]\n",
            " [0.76239655 0.62463983 0.43053893 0.06674003 0.97616842 0.84431673\n",
            "  0.61130182 0.04117322 0.37894298 0.99984822]\n",
            " [0.04534563 0.59466204 0.23314125 0.66604756 0.11986558 0.99375598\n",
            "  0.27305335 0.48741953 0.88482301 0.98549083]\n",
            " [0.83477479 0.14811633 0.53945464 0.39544654 0.72151785 0.72080499\n",
            "  0.84256618 0.71767386 0.40869844 0.67116321]\n",
            " [0.14462515 0.34331825 0.01082931 0.93694962 0.07387261 0.43829653\n",
            "  0.56496261 0.58783312 0.40966968 0.26773131]\n",
            " [0.81187036 0.51549689 0.47722443 0.31629708 0.20698516 0.06029123\n",
            "  0.65419331 0.69610183 0.65662017 0.30391121]\n",
            " [0.80309857 0.87353988 0.5194625  0.9023414  0.08206252 0.33135005\n",
            "  0.09100009 0.0731331  0.14774703 0.11038171]\n",
            " [0.65134551 0.04945516 0.93801276 0.45890548 0.04043841 0.99933999\n",
            "  0.43024924 0.53541084 0.51897804 0.36738984]\n",
            " [0.98073986 0.93022293 0.10516416 0.669087   0.6071534  0.75779917\n",
            "  0.31934788 0.75867939 0.7435328  0.36677581]]\n",
            "Minimum Values: 0.01082930616736677\n",
            "Maximum Values: 0.9998482218796197\n"
          ]
        }
      ]
    },
    {
      "cell_type": "code",
      "source": [
        "#Q6: Create a random vector of size 30 and find the mean value:\n",
        "a=np.random.random(30)\n",
        "print('Random Vector is: \\n',a)\n",
        "print(' ')\n",
        "Mean_value=a.mean()\n",
        "print('Mean value of the random vector is: ',Mean_value)\n"
      ],
      "metadata": {
        "colab": {
          "base_uri": "https://localhost:8080/"
        },
        "id": "YeJTpUp40nwt",
        "outputId": "d2771554-1adf-4f14-a284-3fdb0c7b074c"
      },
      "execution_count": 11,
      "outputs": [
        {
          "output_type": "stream",
          "name": "stdout",
          "text": [
            "Random Vector is: \n",
            " [0.47161786 0.75342492 0.50524683 0.37466277 0.70595403 0.6246399\n",
            " 0.23258382 0.10296737 0.56625014 0.93442476 0.24271403 0.54273273\n",
            " 0.07746725 0.35427289 0.59062276 0.97306207 0.83540224 0.14581926\n",
            " 0.68241695 0.22792817 0.07721841 0.78599393 0.5092668  0.63052152\n",
            " 0.7115203  0.32581595 0.05930867 0.91379277 0.42844674 0.06153736]\n",
            " \n",
            "Mean value of the random vector is:  0.4815877736595086\n"
          ]
        }
      ]
    }
  ]
}